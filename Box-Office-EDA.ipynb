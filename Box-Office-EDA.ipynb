{
 "cells": [
  {
   "cell_type": "code",
   "execution_count": 3,
   "metadata": {},
   "outputs": [
    {
     "data": {
      "text/html": [
       "<div>\n",
       "<style scoped>\n",
       "    .dataframe tbody tr th:only-of-type {\n",
       "        vertical-align: middle;\n",
       "    }\n",
       "\n",
       "    .dataframe tbody tr th {\n",
       "        vertical-align: top;\n",
       "    }\n",
       "\n",
       "    .dataframe thead th {\n",
       "        text-align: right;\n",
       "    }\n",
       "</style>\n",
       "<table border=\"1\" class=\"dataframe\">\n",
       "  <thead>\n",
       "    <tr style=\"text-align: right;\">\n",
       "      <th></th>\n",
       "      <th>Rank</th>\n",
       "      <th>Year</th>\n",
       "      <th>Movie</th>\n",
       "      <th>WorldwideBox Office</th>\n",
       "      <th>DomesticBox Office</th>\n",
       "      <th>InternationalBox Office</th>\n",
       "    </tr>\n",
       "  </thead>\n",
       "  <tbody>\n",
       "    <tr>\n",
       "      <th>0</th>\n",
       "      <td>1</td>\n",
       "      <td>2009</td>\n",
       "      <td>Avatar</td>\n",
       "      <td>$2,845,899,541</td>\n",
       "      <td>$760,507,625</td>\n",
       "      <td>$2,085,391,916</td>\n",
       "    </tr>\n",
       "    <tr>\n",
       "      <th>1</th>\n",
       "      <td>2</td>\n",
       "      <td>2019</td>\n",
       "      <td>Avengers: Endgame</td>\n",
       "      <td>$2,797,800,564</td>\n",
       "      <td>$858,373,000</td>\n",
       "      <td>$1,939,427,564</td>\n",
       "    </tr>\n",
       "    <tr>\n",
       "      <th>2</th>\n",
       "      <td>3</td>\n",
       "      <td>1997</td>\n",
       "      <td>Titanic</td>\n",
       "      <td>$2,207,986,545</td>\n",
       "      <td>$659,363,944</td>\n",
       "      <td>$1,548,622,601</td>\n",
       "    </tr>\n",
       "    <tr>\n",
       "      <th>3</th>\n",
       "      <td>4</td>\n",
       "      <td>2015</td>\n",
       "      <td>Star Wars Ep. VII</td>\n",
       "      <td>$2,064,615,817</td>\n",
       "      <td>$936,662,225</td>\n",
       "      <td>$1,127,953,592</td>\n",
       "    </tr>\n",
       "    <tr>\n",
       "      <th>4</th>\n",
       "      <td>5</td>\n",
       "      <td>2018</td>\n",
       "      <td>Avengers:Infinity War</td>\n",
       "      <td>$2,044,540,523</td>\n",
       "      <td>$678,815,482</td>\n",
       "      <td>$1,365,725,041</td>\n",
       "    </tr>\n",
       "    <tr>\n",
       "      <th>...</th>\n",
       "      <td>...</td>\n",
       "      <td>...</td>\n",
       "      <td>...</td>\n",
       "      <td>...</td>\n",
       "      <td>...</td>\n",
       "      <td>...</td>\n",
       "    </tr>\n",
       "    <tr>\n",
       "      <th>590</th>\n",
       "      <td>596</td>\n",
       "      <td>2010</td>\n",
       "      <td>Knight and Day</td>\n",
       "      <td>$258,751,370</td>\n",
       "      <td>$76,423,035</td>\n",
       "      <td>$182,328,335</td>\n",
       "    </tr>\n",
       "    <tr>\n",
       "      <th>591</th>\n",
       "      <td>597</td>\n",
       "      <td>1985</td>\n",
       "      <td>Out of Africa</td>\n",
       "      <td>$258,210,860</td>\n",
       "      <td>$79,096,868</td>\n",
       "      <td>$179,113,992</td>\n",
       "    </tr>\n",
       "    <tr>\n",
       "      <th>592</th>\n",
       "      <td>598</td>\n",
       "      <td>2011</td>\n",
       "      <td>Super 8</td>\n",
       "      <td>$257,972,745</td>\n",
       "      <td>$127,004,179</td>\n",
       "      <td>$130,968,566</td>\n",
       "    </tr>\n",
       "    <tr>\n",
       "      <th>593</th>\n",
       "      <td>599</td>\n",
       "      <td>2013</td>\n",
       "      <td>American Hustle</td>\n",
       "      <td>$257,858,943</td>\n",
       "      <td>$150,098,456</td>\n",
       "      <td>$107,760,487</td>\n",
       "    </tr>\n",
       "    <tr>\n",
       "      <th>594</th>\n",
       "      <td>600</td>\n",
       "      <td>2000</td>\n",
       "      <td>Erin Brockovich</td>\n",
       "      <td>$257,805,243</td>\n",
       "      <td>$125,548,685</td>\n",
       "      <td>$132,256,558</td>\n",
       "    </tr>\n",
       "  </tbody>\n",
       "</table>\n",
       "<p>595 rows × 6 columns</p>\n",
       "</div>"
      ],
      "text/plain": [
       "     Rank  Year                  Movie WorldwideBox Office DomesticBox Office  \\\n",
       "0       1  2009                 Avatar      $2,845,899,541       $760,507,625   \n",
       "1       2  2019      Avengers: Endgame      $2,797,800,564       $858,373,000   \n",
       "2       3  1997                Titanic      $2,207,986,545       $659,363,944   \n",
       "3       4  2015      Star Wars Ep. VII      $2,064,615,817       $936,662,225   \n",
       "4       5  2018  Avengers:Infinity War      $2,044,540,523       $678,815,482   \n",
       "..    ...   ...                    ...                 ...                ...   \n",
       "590   596  2010         Knight and Day        $258,751,370        $76,423,035   \n",
       "591   597  1985          Out of Africa        $258,210,860        $79,096,868   \n",
       "592   598  2011                Super 8        $257,972,745       $127,004,179   \n",
       "593   599  2013        American Hustle        $257,858,943       $150,098,456   \n",
       "594   600  2000        Erin Brockovich        $257,805,243       $125,548,685   \n",
       "\n",
       "    InternationalBox Office  \n",
       "0            $2,085,391,916  \n",
       "1            $1,939,427,564  \n",
       "2            $1,548,622,601  \n",
       "3            $1,127,953,592  \n",
       "4            $1,365,725,041  \n",
       "..                      ...  \n",
       "590            $182,328,335  \n",
       "591            $179,113,992  \n",
       "592            $130,968,566  \n",
       "593            $107,760,487  \n",
       "594            $132,256,558  \n",
       "\n",
       "[595 rows x 6 columns]"
      ]
     },
     "execution_count": 3,
     "metadata": {},
     "output_type": "execute_result"
    }
   ],
   "source": [
    "import pandas as pd\n",
    "f = pd.read_csv(\"boxoffice.csv\")\n",
    "f"
   ]
  },
  {
   "cell_type": "code",
   "execution_count": 4,
   "metadata": {},
   "outputs": [
    {
     "data": {
      "text/html": [
       "<div>\n",
       "<style scoped>\n",
       "    .dataframe tbody tr th:only-of-type {\n",
       "        vertical-align: middle;\n",
       "    }\n",
       "\n",
       "    .dataframe tbody tr th {\n",
       "        vertical-align: top;\n",
       "    }\n",
       "\n",
       "    .dataframe thead th {\n",
       "        text-align: right;\n",
       "    }\n",
       "</style>\n",
       "<table border=\"1\" class=\"dataframe\">\n",
       "  <thead>\n",
       "    <tr style=\"text-align: right;\">\n",
       "      <th></th>\n",
       "      <th>Rank</th>\n",
       "      <th>Year</th>\n",
       "      <th>Movie</th>\n",
       "      <th>WorldwideBox Office</th>\n",
       "      <th>DomesticBox Office</th>\n",
       "      <th>InternationalBox Office</th>\n",
       "    </tr>\n",
       "  </thead>\n",
       "  <tbody>\n",
       "    <tr>\n",
       "      <th>0</th>\n",
       "      <td>1</td>\n",
       "      <td>2009</td>\n",
       "      <td>Avatar</td>\n",
       "      <td>$2,845,899,541</td>\n",
       "      <td>$760,507,625</td>\n",
       "      <td>$2,085,391,916</td>\n",
       "    </tr>\n",
       "    <tr>\n",
       "      <th>1</th>\n",
       "      <td>2</td>\n",
       "      <td>2019</td>\n",
       "      <td>Avengers: Endgame</td>\n",
       "      <td>$2,797,800,564</td>\n",
       "      <td>$858,373,000</td>\n",
       "      <td>$1,939,427,564</td>\n",
       "    </tr>\n",
       "    <tr>\n",
       "      <th>2</th>\n",
       "      <td>3</td>\n",
       "      <td>1997</td>\n",
       "      <td>Titanic</td>\n",
       "      <td>$2,207,986,545</td>\n",
       "      <td>$659,363,944</td>\n",
       "      <td>$1,548,622,601</td>\n",
       "    </tr>\n",
       "    <tr>\n",
       "      <th>3</th>\n",
       "      <td>4</td>\n",
       "      <td>2015</td>\n",
       "      <td>Star Wars Ep. VII</td>\n",
       "      <td>$2,064,615,817</td>\n",
       "      <td>$936,662,225</td>\n",
       "      <td>$1,127,953,592</td>\n",
       "    </tr>\n",
       "    <tr>\n",
       "      <th>4</th>\n",
       "      <td>5</td>\n",
       "      <td>2018</td>\n",
       "      <td>Avengers:Infinity War</td>\n",
       "      <td>$2,044,540,523</td>\n",
       "      <td>$678,815,482</td>\n",
       "      <td>$1,365,725,041</td>\n",
       "    </tr>\n",
       "    <tr>\n",
       "      <th>5</th>\n",
       "      <td>6</td>\n",
       "      <td>2015</td>\n",
       "      <td>Jurassic World</td>\n",
       "      <td>$1,669,979,967</td>\n",
       "      <td>$652,306,625</td>\n",
       "      <td>$1,017,673,342</td>\n",
       "    </tr>\n",
       "    <tr>\n",
       "      <th>6</th>\n",
       "      <td>7</td>\n",
       "      <td>2019</td>\n",
       "      <td>The Lion King</td>\n",
       "      <td>$1,654,367,425</td>\n",
       "      <td>$543,638,043</td>\n",
       "      <td>$1,110,729,382</td>\n",
       "    </tr>\n",
       "    <tr>\n",
       "      <th>7</th>\n",
       "      <td>8</td>\n",
       "      <td>2015</td>\n",
       "      <td>Furious 7</td>\n",
       "      <td>$1,516,881,526</td>\n",
       "      <td>$353,007,020</td>\n",
       "      <td>$1,163,874,506</td>\n",
       "    </tr>\n",
       "    <tr>\n",
       "      <th>8</th>\n",
       "      <td>9</td>\n",
       "      <td>2012</td>\n",
       "      <td>The Avengers</td>\n",
       "      <td>$1,515,100,211</td>\n",
       "      <td>$623,357,910</td>\n",
       "      <td>$891,742,301</td>\n",
       "    </tr>\n",
       "    <tr>\n",
       "      <th>9</th>\n",
       "      <td>10</td>\n",
       "      <td>2019</td>\n",
       "      <td>Frozen II</td>\n",
       "      <td>$1,446,925,396</td>\n",
       "      <td>$477,373,578</td>\n",
       "      <td>$883,742,301</td>\n",
       "    </tr>\n",
       "  </tbody>\n",
       "</table>\n",
       "</div>"
      ],
      "text/plain": [
       "   Rank  Year                  Movie WorldwideBox Office DomesticBox Office  \\\n",
       "0     1  2009                 Avatar      $2,845,899,541       $760,507,625   \n",
       "1     2  2019      Avengers: Endgame      $2,797,800,564       $858,373,000   \n",
       "2     3  1997                Titanic      $2,207,986,545       $659,363,944   \n",
       "3     4  2015      Star Wars Ep. VII      $2,064,615,817       $936,662,225   \n",
       "4     5  2018  Avengers:Infinity War      $2,044,540,523       $678,815,482   \n",
       "5     6  2015         Jurassic World      $1,669,979,967       $652,306,625   \n",
       "6     7  2019          The Lion King      $1,654,367,425       $543,638,043   \n",
       "7     8  2015              Furious 7      $1,516,881,526       $353,007,020   \n",
       "8     9  2012           The Avengers      $1,515,100,211       $623,357,910   \n",
       "9    10  2019              Frozen II      $1,446,925,396       $477,373,578   \n",
       "\n",
       "  InternationalBox Office  \n",
       "0          $2,085,391,916  \n",
       "1          $1,939,427,564  \n",
       "2          $1,548,622,601  \n",
       "3          $1,127,953,592  \n",
       "4          $1,365,725,041  \n",
       "5          $1,017,673,342  \n",
       "6          $1,110,729,382  \n",
       "7          $1,163,874,506  \n",
       "8            $891,742,301  \n",
       "9            $883,742,301  "
      ]
     },
     "execution_count": 4,
     "metadata": {},
     "output_type": "execute_result"
    }
   ],
   "source": [
    "f.head(10)\n"
   ]
  },
  {
   "cell_type": "code",
   "execution_count": 5,
   "metadata": {},
   "outputs": [
    {
     "data": {
      "text/plain": [
       "Rank                       0\n",
       "Year                       0\n",
       "Movie                      0\n",
       "WorldwideBox Office        0\n",
       "DomesticBox Office         7\n",
       "InternationalBox Office    0\n",
       "dtype: int64"
      ]
     },
     "execution_count": 5,
     "metadata": {},
     "output_type": "execute_result"
    }
   ],
   "source": [
    "f.isnull().sum()\n"
   ]
  },
  {
   "cell_type": "code",
   "execution_count": 6,
   "metadata": {},
   "outputs": [
    {
     "data": {
      "text/plain": [
       "<AxesSubplot:>"
      ]
     },
     "execution_count": 6,
     "metadata": {},
     "output_type": "execute_result"
    },
    {
     "data": {
      "image/png": "[encoded data removed]",
      "text/plain": [
       "<Figure size 432x288 with 2 Axes>"
      ]
     },
     "metadata": {
      "needs_background": "light"
     },
     "output_type": "display_data"
    }
   ],
   "source": [
    "sns.heatmap(f.isnull())"
   ]
  },
  {
   "cell_type": "code",
   "execution_count": 7,
   "metadata": {},
   "outputs": [
    {
     "data": {
      "text/html": [
       "<div>\n",
       "<style scoped>\n",
       "    .dataframe tbody tr th:only-of-type {\n",
       "        vertical-align: middle;\n",
       "    }\n",
       "\n",
       "    .dataframe tbody tr th {\n",
       "        vertical-align: top;\n",
       "    }\n",
       "\n",
       "    .dataframe thead th {\n",
       "        text-align: right;\n",
       "    }\n",
       "</style>\n",
       "<table border=\"1\" class=\"dataframe\">\n",
       "  <thead>\n",
       "    <tr style=\"text-align: right;\">\n",
       "      <th></th>\n",
       "      <th>Rank</th>\n",
       "      <th>Year</th>\n",
       "      <th>Movie</th>\n",
       "      <th>WorldwideBox Office</th>\n",
       "      <th>DomesticBox Office</th>\n",
       "      <th>InternationalBox Office</th>\n",
       "    </tr>\n",
       "  </thead>\n",
       "  <tbody>\n",
       "    <tr>\n",
       "      <th>0</th>\n",
       "      <td>1</td>\n",
       "      <td>2009</td>\n",
       "      <td>Avatar</td>\n",
       "      <td>$2,845,899,541</td>\n",
       "      <td>$760,507,625</td>\n",
       "      <td>$2,085,391,916</td>\n",
       "    </tr>\n",
       "    <tr>\n",
       "      <th>1</th>\n",
       "      <td>2</td>\n",
       "      <td>2019</td>\n",
       "      <td>Avengers: Endgame</td>\n",
       "      <td>$2,797,800,564</td>\n",
       "      <td>$858,373,000</td>\n",
       "      <td>$1,939,427,564</td>\n",
       "    </tr>\n",
       "    <tr>\n",
       "      <th>2</th>\n",
       "      <td>3</td>\n",
       "      <td>1997</td>\n",
       "      <td>Titanic</td>\n",
       "      <td>$2,207,986,545</td>\n",
       "      <td>$659,363,944</td>\n",
       "      <td>$1,548,622,601</td>\n",
       "    </tr>\n",
       "    <tr>\n",
       "      <th>3</th>\n",
       "      <td>4</td>\n",
       "      <td>2015</td>\n",
       "      <td>Star Wars Ep. VII</td>\n",
       "      <td>$2,064,615,817</td>\n",
       "      <td>$936,662,225</td>\n",
       "      <td>$1,127,953,592</td>\n",
       "    </tr>\n",
       "    <tr>\n",
       "      <th>4</th>\n",
       "      <td>5</td>\n",
       "      <td>2018</td>\n",
       "      <td>Avengers:Infinity War</td>\n",
       "      <td>$2,044,540,523</td>\n",
       "      <td>$678,815,482</td>\n",
       "      <td>$1,365,725,041</td>\n",
       "    </tr>\n",
       "    <tr>\n",
       "      <th>...</th>\n",
       "      <td>...</td>\n",
       "      <td>...</td>\n",
       "      <td>...</td>\n",
       "      <td>...</td>\n",
       "      <td>...</td>\n",
       "      <td>...</td>\n",
       "    </tr>\n",
       "    <tr>\n",
       "      <th>590</th>\n",
       "      <td>596</td>\n",
       "      <td>2010</td>\n",
       "      <td>Knight and Day</td>\n",
       "      <td>$258,751,370</td>\n",
       "      <td>$76,423,035</td>\n",
       "      <td>$182,328,335</td>\n",
       "    </tr>\n",
       "    <tr>\n",
       "      <th>591</th>\n",
       "      <td>597</td>\n",
       "      <td>1985</td>\n",
       "      <td>Out of Africa</td>\n",
       "      <td>$258,210,860</td>\n",
       "      <td>$79,096,868</td>\n",
       "      <td>$179,113,992</td>\n",
       "    </tr>\n",
       "    <tr>\n",
       "      <th>592</th>\n",
       "      <td>598</td>\n",
       "      <td>2011</td>\n",
       "      <td>Super 8</td>\n",
       "      <td>$257,972,745</td>\n",
       "      <td>$127,004,179</td>\n",
       "      <td>$130,968,566</td>\n",
       "    </tr>\n",
       "    <tr>\n",
       "      <th>593</th>\n",
       "      <td>599</td>\n",
       "      <td>2013</td>\n",
       "      <td>American Hustle</td>\n",
       "      <td>$257,858,943</td>\n",
       "      <td>$150,098,456</td>\n",
       "      <td>$107,760,487</td>\n",
       "    </tr>\n",
       "    <tr>\n",
       "      <th>594</th>\n",
       "      <td>600</td>\n",
       "      <td>2000</td>\n",
       "      <td>Erin Brockovich</td>\n",
       "      <td>$257,805,243</td>\n",
       "      <td>$125,548,685</td>\n",
       "      <td>$132,256,558</td>\n",
       "    </tr>\n",
       "  </tbody>\n",
       "</table>\n",
       "<p>588 rows × 6 columns</p>\n",
       "</div>"
      ],
      "text/plain": [
       "     Rank  Year                  Movie WorldwideBox Office DomesticBox Office  \\\n",
       "0       1  2009                 Avatar      $2,845,899,541       $760,507,625   \n",
       "1       2  2019      Avengers: Endgame      $2,797,800,564       $858,373,000   \n",
       "2       3  1997                Titanic      $2,207,986,545       $659,363,944   \n",
       "3       4  2015      Star Wars Ep. VII      $2,064,615,817       $936,662,225   \n",
       "4       5  2018  Avengers:Infinity War      $2,044,540,523       $678,815,482   \n",
       "..    ...   ...                    ...                 ...                ...   \n",
       "590   596  2010         Knight and Day        $258,751,370        $76,423,035   \n",
       "591   597  1985          Out of Africa        $258,210,860        $79,096,868   \n",
       "592   598  2011                Super 8        $257,972,745       $127,004,179   \n",
       "593   599  2013        American Hustle        $257,858,943       $150,098,456   \n",
       "594   600  2000        Erin Brockovich        $257,805,243       $125,548,685   \n",
       "\n",
       "    InternationalBox Office  \n",
       "0            $2,085,391,916  \n",
       "1            $1,939,427,564  \n",
       "2            $1,548,622,601  \n",
       "3            $1,127,953,592  \n",
       "4            $1,365,725,041  \n",
       "..                      ...  \n",
       "590            $182,328,335  \n",
       "591            $179,113,992  \n",
       "592            $130,968,566  \n",
       "593            $107,760,487  \n",
       "594            $132,256,558  \n",
       "\n",
       "[588 rows x 6 columns]"
      ]
     },
     "execution_count": 7,
     "metadata": {},
     "output_type": "execute_result"
    }
   ],
   "source": [
    "f.dropna()"
   ]
  },
  {
   "cell_type": "code",
   "execution_count": 8,
   "metadata": {},
   "outputs": [
    {
     "data": {
      "text/plain": [
       "<AxesSubplot:xlabel='Year', ylabel='WorldwideBox Office'>"
      ]
     },
     "execution_count": 8,
     "metadata": {},
     "output_type": "execute_result"
    },
    {
     "data": {
      "image/png": "[encoded data removed]",
      "text/plain": [
       "<Figure size 432x288 with 1 Axes>"
      ]
     },
     "metadata": {
      "needs_background": "light"
     },
     "output_type": "display_data"
    }
   ],
   "source": [
    "import seaborn as sns\n",
    "sns.lineplot(x = 'Year', y = 'WorldwideBox Office', data=f.head(10))"
   ]
  },
  {
   "cell_type": "code",
   "execution_count": 10,
   "metadata": {},
   "outputs": [
    {
     "data": {
      "text/plain": [
       "<AxesSubplot:xlabel='Rank', ylabel='WorldwideBox Office'>"
      ]
     },
     "execution_count": 10,
     "metadata": {},
     "output_type": "execute_result"
    },
    {
     "data": {
      "image/png": "[encoded data removed]",
      "text/plain": [
       "<Figure size 432x288 with 1 Axes>"
      ]
     },
     "metadata": {
      "needs_background": "light"
     },
     "output_type": "display_data"
    }
   ],
   "source": [
    "sns.barplot(data=f.head(5),x = 'Rank',y = 'WorldwideBox Office', hue='Movie')"
   ]
  },
  {
   "cell_type": "code",
   "execution_count": 12,
   "metadata": {},
   "outputs": [
    {
     "data": {
      "text/plain": [
       "<AxesSubplot:xlabel='Year', ylabel='WorldwideBox Office'>"
      ]
     },
     "execution_count": 12,
     "metadata": {},
     "output_type": "execute_result"
    },
    {
     "data": {
      "image/png": "[encoded data removed]",
      "text/plain": [
       "<Figure size 432x288 with 1 Axes>"
      ]
     },
     "metadata": {
      "needs_background": "light"
     },
     "output_type": "display_data"
    }
   ],
   "source": [
    "sns.scatterplot(data = f.head(10), x = 'Year', y = 'WorldwideBox Office')"
   ]
  },
  {
   "cell_type": "code",
   "execution_count": 13,
   "metadata": {},
   "outputs": [
    {
     "data": {
      "text/plain": [
       "<seaborn.axisgrid.PairGrid at 0x23f70c7fca0>"
      ]
     },
     "execution_count": 13,
     "metadata": {},
     "output_type": "execute_result"
    },
    {
     "data": {
      "image/png": "[encoded data removed]",
      "text/plain": [
       "<Figure size 360x360 with 6 Axes>"
      ]
     },
     "metadata": {
      "needs_background": "light"
     },
     "output_type": "display_data"
    }
   ],
   "source": [
    "sns.pairplot(f.head(10))"
   ]
  },
  {
   "cell_type": "code",
   "execution_count": 14,
   "metadata": {},
   "outputs": [
    {
     "data": {
      "text/plain": [
       "<AxesSubplot:xlabel='Movie', ylabel='Year'>"
      ]
     },
     "execution_count": 14,
     "metadata": {},
     "output_type": "execute_result"
    },
    {
     "data": {
      "image/png": "[encoded data removed]",
      "text/plain": [
       "<Figure size 432x288 with 1 Axes>"
      ]
     },
     "metadata": {
      "needs_background": "light"
     },
     "output_type": "display_data"
    }
   ],
   "source": [
    "sns.boxplot(x ='Movie', y = 'Year', data = f.head())"
   ]
  },
  {
   "cell_type": "code",
   "execution_count": null,
   "metadata": {},
   "outputs": [],
   "source": []
  }
 ],
 "metadata": {
  "kernelspec": {
   "display_name": "Python 3",
   "language": "python",
   "name": "python3"
  },
  "language_info": {
   "codemirror_mode": {
    "name": "ipython",
    "version": 3
   },
   "file_extension": ".py",
   "mimetype": "text/x-python",
   "name": "python",
   "nbconvert_exporter": "python",
   "pygments_lexer": "ipython3",
   "version": "3.8.5"
  }
 },
 "nbformat": 4,
 "nbformat_minor": 4
}
