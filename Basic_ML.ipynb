{
  "nbformat": 4,
  "nbformat_minor": 0,
  "metadata": {
    "colab": {
      "name": "Basic ML.ipynb",
      "provenance": [],
      "authorship_tag": "ABX9TyMu/g6CUTAlFTJrvTeaU2L+",
      "include_colab_link": true
    },
    "kernelspec": {
      "name": "python3",
      "display_name": "Python 3"
    },
    "language_info": {
      "name": "python"
    }
  },
  "cells": [
    {
      "cell_type": "markdown",
      "metadata": {
        "id": "view-in-github",
        "colab_type": "text"
      },
      "source": [
        "<a href=\"https://colab.research.google.com/github/MaheshAndey/Basic-ML/blob/main/Basic_ML.ipynb\" target=\"_parent\"><img src=\"https://colab.research.google.com/assets/colab-badge.svg\" alt=\"Open In Colab\"/></a>"
      ]
    },
    {
      "cell_type": "markdown",
      "metadata": {
        "id": "T_OOZLWQ_fFJ"
      },
      "source": [
        "Checking if a number is palindrome or not"
      ]
    },
    {
      "cell_type": "code",
      "metadata": {
        "colab": {
          "base_uri": "https://localhost:8080/"
        },
        "id": "mQQqCoyT9NUA",
        "outputId": "4d325d30-c399-48ea-8390-4def07d921d0"
      },
      "source": [
        "number = input()\n",
        "if number == number[::-1]:\n",
        "  print(\"Palindrome\")\n",
        "else:\n",
        "  print(\"Not Palindrome\")"
      ],
      "execution_count": 3,
      "outputs": [
        {
          "output_type": "stream",
          "text": [
            "232\n",
            "Palindrome\n"
          ],
          "name": "stdout"
        }
      ]
    },
    {
      "cell_type": "markdown",
      "metadata": {
        "id": "8YEaVjyv_QLL"
      },
      "source": [
        "Sum of the digits of a number.\n"
      ]
    },
    {
      "cell_type": "code",
      "metadata": {
        "colab": {
          "base_uri": "https://localhost:8080/"
        },
        "id": "oboGBjt0_aHh",
        "outputId": "ba4d65c5-776a-4fdb-aa83-2d08757e87cc"
      },
      "source": [
        "number = int(input())\n",
        "sum = 0\n",
        "while number!=0:\n",
        "  rem = number%10\n",
        "  sum += rem\n",
        "  number = number//10\n",
        "print(sum)"
      ],
      "execution_count": 5,
      "outputs": [
        {
          "output_type": "stream",
          "text": [
            "234\n",
            "9\n"
          ],
          "name": "stdout"
        }
      ]
    },
    {
      "cell_type": "markdown",
      "metadata": {
        "id": "FEGTmGja__sq"
      },
      "source": [
        "Revese a Number "
      ]
    },
    {
      "cell_type": "code",
      "metadata": {
        "colab": {
          "base_uri": "https://localhost:8080/"
        },
        "id": "FrfCU-6MAPcI",
        "outputId": "625ca2d1-e21c-4abd-c1f7-f344a733817a"
      },
      "source": [
        "number = int(input())\n",
        "rev = 0\n",
        "while number!=0:\n",
        "  rem = number%10\n",
        "  rev = rev*10+rem\n",
        "  number //= 10\n",
        "print(rev)"
      ],
      "execution_count": 6,
      "outputs": [
        {
          "output_type": "stream",
          "text": [
            "123\n",
            "321\n"
          ],
          "name": "stdout"
        }
      ]
    }
  ]
}